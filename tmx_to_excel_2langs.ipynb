{
 "cells": [
  {
   "cell_type": "markdown",
   "id": "4c1f33bc-9da0-4722-ad50-3732d8c5c436",
   "metadata": {},
   "source": [
    "# TMX-to-XLSX converter\n",
    "Simple version, two languages only. If there are more than two languages in a segment, the program will throw a warning and will use only the first two."
   ]
  },
  {
   "cell_type": "code",
   "execution_count": 1,
   "id": "a1a6a574-51db-4ce6-8838-431c03113461",
   "metadata": {},
   "outputs": [],
   "source": [
    "from lxml import etree\n",
    "import pandas as pd\n",
    "from os.path import splitext"
   ]
  },
  {
   "cell_type": "markdown",
   "id": "2d77a662-bfa9-401c-abbc-e411729a4e9d",
   "metadata": {},
   "source": [
    "### Input"
   ]
  },
  {
   "cell_type": "code",
   "execution_count": 2,
   "id": "44710750-b238-4e3e-9e9b-458a8a86f57d",
   "metadata": {},
   "outputs": [],
   "source": [
    "filename = 'HUGE LEGAL.tmx'"
   ]
  },
  {
   "cell_type": "markdown",
   "id": "357c66c2-acf6-4c4e-8a80-8dcb7e45305e",
   "metadata": {},
   "source": [
    "### Conversion"
   ]
  },
  {
   "cell_type": "code",
   "execution_count": 3,
   "id": "51d10202-c264-4ce1-a370-231506675902",
   "metadata": {},
   "outputs": [],
   "source": [
    "xml_tree = etree.parse(filename)\n",
    "\n",
    "trans_units = xml_tree.findall(\".//tu\")\n",
    "\n",
    "source_texts = []\n",
    "target_texts = []\n",
    "for trans_unit in trans_units:\n",
    "    tuvs = trans_unit.findall(\".//tuv\")\n",
    "    if len(tuvs) > 2:\n",
    "        print('Segment with more than two languages!')\n",
    "    tuv1, tuv2 = tuvs[:2]\n",
    "    source = tuv1.find(\".//seg\").text\n",
    "    target = tuv2.find(\".//seg\").text\n",
    "    source_texts.append(source)\n",
    "    target_texts.append(source)"
   ]
  },
  {
   "cell_type": "markdown",
   "id": "45f6c42a-38b5-419b-a2eb-fad182ceedcb",
   "metadata": {},
   "source": [
    "### Output"
   ]
  },
  {
   "cell_type": "code",
   "execution_count": 4,
   "id": "b5ef0508-cd1d-46df-9465-3f9e7b042a70",
   "metadata": {},
   "outputs": [
    {
     "data": {
      "text/html": [
       "<div>\n",
       "<style scoped>\n",
       "    .dataframe tbody tr th:only-of-type {\n",
       "        vertical-align: middle;\n",
       "    }\n",
       "\n",
       "    .dataframe tbody tr th {\n",
       "        vertical-align: top;\n",
       "    }\n",
       "\n",
       "    .dataframe thead th {\n",
       "        text-align: right;\n",
       "    }\n",
       "</style>\n",
       "<table border=\"1\" class=\"dataframe\">\n",
       "  <thead>\n",
       "    <tr style=\"text-align: right;\">\n",
       "      <th></th>\n",
       "      <th>source</th>\n",
       "      <th>target</th>\n",
       "    </tr>\n",
       "  </thead>\n",
       "  <tbody>\n",
       "    <tr>\n",
       "      <th>0</th>\n",
       "      <td>October 2021</td>\n",
       "      <td>October 2021</td>\n",
       "    </tr>\n",
       "    <tr>\n",
       "      <th>1</th>\n",
       "      <td>DETAILED ASSESSMENT OF IMPLEMENTATION</td>\n",
       "      <td>DETAILED ASSESSMENT OF IMPLEMENTATION</td>\n",
       "    </tr>\n",
       "    <tr>\n",
       "      <th>2</th>\n",
       "      <td>IOSCO Objectives and principles of securities ...</td>\n",
       "      <td>IOSCO Objectives and principles of securities ...</td>\n",
       "    </tr>\n",
       "    <tr>\n",
       "      <th>3</th>\n",
       "      <td>This Detailed Assessment Report was prepared i...</td>\n",
       "      <td>This Detailed Assessment Report was prepared i...</td>\n",
       "    </tr>\n",
       "    <tr>\n",
       "      <th>4</th>\n",
       "      <td>Assets under management</td>\n",
       "      <td>Assets under management</td>\n",
       "    </tr>\n",
       "    <tr>\n",
       "      <th>...</th>\n",
       "      <td>...</td>\n",
       "      <td>...</td>\n",
       "    </tr>\n",
       "    <tr>\n",
       "      <th>625214</th>\n",
       "      <td>Notwithstanding anything to the contrary, if a...</td>\n",
       "      <td>Notwithstanding anything to the contrary, if a...</td>\n",
       "    </tr>\n",
       "    <tr>\n",
       "      <th>625215</th>\n",
       "      <td>If an erroneous trading occurs due to the Bank...</td>\n",
       "      <td>If an erroneous trading occurs due to the Bank...</td>\n",
       "    </tr>\n",
       "    <tr>\n",
       "      <th>625216</th>\n",
       "      <td>Both parties shall, on the premise of complyin...</td>\n",
       "      <td>Both parties shall, on the premise of complyin...</td>\n",
       "    </tr>\n",
       "    <tr>\n",
       "      <th>625217</th>\n",
       "      <td>Both parties shall keep strictly confidential ...</td>\n",
       "      <td>Both parties shall keep strictly confidential ...</td>\n",
       "    </tr>\n",
       "    <tr>\n",
       "      <th>625218</th>\n",
       "      <td>In case of any of the above situations, the Qu...</td>\n",
       "      <td>In case of any of the above situations, the Qu...</td>\n",
       "    </tr>\n",
       "  </tbody>\n",
       "</table>\n",
       "<p>625219 rows × 2 columns</p>\n",
       "</div>"
      ],
      "text/plain": [
       "                                                   source  \\\n",
       "0                                            October 2021   \n",
       "1                   DETAILED ASSESSMENT OF IMPLEMENTATION   \n",
       "2       IOSCO Objectives and principles of securities ...   \n",
       "3       This Detailed Assessment Report was prepared i...   \n",
       "4                                 Assets under management   \n",
       "...                                                   ...   \n",
       "625214  Notwithstanding anything to the contrary, if a...   \n",
       "625215  If an erroneous trading occurs due to the Bank...   \n",
       "625216  Both parties shall, on the premise of complyin...   \n",
       "625217  Both parties shall keep strictly confidential ...   \n",
       "625218  In case of any of the above situations, the Qu...   \n",
       "\n",
       "                                                   target  \n",
       "0                                            October 2021  \n",
       "1                   DETAILED ASSESSMENT OF IMPLEMENTATION  \n",
       "2       IOSCO Objectives and principles of securities ...  \n",
       "3       This Detailed Assessment Report was prepared i...  \n",
       "4                                 Assets under management  \n",
       "...                                                   ...  \n",
       "625214  Notwithstanding anything to the contrary, if a...  \n",
       "625215  If an erroneous trading occurs due to the Bank...  \n",
       "625216  Both parties shall, on the premise of complyin...  \n",
       "625217  Both parties shall keep strictly confidential ...  \n",
       "625218  In case of any of the above situations, the Qu...  \n",
       "\n",
       "[625219 rows x 2 columns]"
      ]
     },
     "execution_count": 4,
     "metadata": {},
     "output_type": "execute_result"
    }
   ],
   "source": [
    "df = pd.DataFrame({\n",
    "    'source': source_texts,\n",
    "    'target': target_texts\n",
    "})\n",
    "df"
   ]
  },
  {
   "cell_type": "code",
   "execution_count": 5,
   "id": "6f683a5f-8769-43c6-8c65-02d02fe63988",
   "metadata": {},
   "outputs": [],
   "source": [
    "new_filename = splitext(filename)[0] + '.xlsx'"
   ]
  },
  {
   "cell_type": "code",
   "execution_count": 6,
   "id": "89d47b82-3d00-44b0-9e5b-9711c9acf191",
   "metadata": {},
   "outputs": [],
   "source": [
    "df.to_excel(new_filename, index=False)"
   ]
  }
 ],
 "metadata": {
  "kernelspec": {
   "display_name": "Python 3 (ipykernel)",
   "language": "python",
   "name": "python3"
  },
  "language_info": {
   "codemirror_mode": {
    "name": "ipython",
    "version": 3
   },
   "file_extension": ".py",
   "mimetype": "text/x-python",
   "name": "python",
   "nbconvert_exporter": "python",
   "pygments_lexer": "ipython3",
   "version": "3.11.5"
  }
 },
 "nbformat": 4,
 "nbformat_minor": 5
}
