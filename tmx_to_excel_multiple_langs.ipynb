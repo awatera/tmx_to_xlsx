{
 "cells": [
  {
   "cell_type": "markdown",
   "id": "f0f41b45-5054-48d2-9db3-6c2a44e49edb",
   "metadata": {},
   "source": [
    "# TMX-to-XLSX converter\n",
    "More advanced version supporting multiple languages."
   ]
  },
  {
   "cell_type": "code",
   "execution_count": 1,
   "id": "a1a6a574-51db-4ce6-8838-431c03113461",
   "metadata": {},
   "outputs": [],
   "source": [
    "from lxml import etree\n",
    "import pandas as pd\n",
    "from os.path import splitext"
   ]
  },
  {
   "cell_type": "markdown",
   "id": "03991f71-48ab-453c-b402-a068e1294c04",
   "metadata": {},
   "source": [
    "### Input"
   ]
  },
  {
   "cell_type": "code",
   "execution_count": 2,
   "id": "44710750-b238-4e3e-9e9b-458a8a86f57d",
   "metadata": {},
   "outputs": [],
   "source": [
    "filename = 'train_0.2_TM_dataset_yandex_cleaned.tmx'"
   ]
  },
  {
   "cell_type": "markdown",
   "id": "1fd81d7b-6f14-4b7f-a23c-ca9422333774",
   "metadata": {},
   "source": [
    "### Conversion"
   ]
  },
  {
   "cell_type": "code",
   "execution_count": 3,
   "id": "c2c2b7a3-4ce3-42b8-8cf0-9236dba043ef",
   "metadata": {},
   "outputs": [],
   "source": [
    "xml_tree = etree.parse(filename)"
   ]
  },
  {
   "cell_type": "code",
   "execution_count": 4,
   "id": "1feb245b-6e0a-4064-a51a-3c93aeeeb5c6",
   "metadata": {},
   "outputs": [],
   "source": [
    "trans_units = xml_tree.findall(\".//tu\")"
   ]
  },
  {
   "cell_type": "code",
   "execution_count": 5,
   "id": "fb4deb83-e7fe-46d2-b006-95f7b285677f",
   "metadata": {},
   "outputs": [],
   "source": [
    "segments = []\n",
    "for trans_unit in trans_units:\n",
    "    segment = {}\n",
    "    tuvs = trans_unit.findall(\".//tuv\")\n",
    "    for tuv in tuvs:\n",
    "        for key, value in tuv.attrib.items():\n",
    "            if etree.QName(key).localname == 'lang':\n",
    "                lang = value\n",
    "        segment[lang] = tuv.find(\".//seg\").text\n",
    "    segments.append(segment)"
   ]
  },
  {
   "cell_type": "code",
   "execution_count": 6,
   "id": "b5ef0508-cd1d-46df-9465-3f9e7b042a70",
   "metadata": {},
   "outputs": [
    {
     "data": {
      "text/html": [
       "<div>\n",
       "<style scoped>\n",
       "    .dataframe tbody tr th:only-of-type {\n",
       "        vertical-align: middle;\n",
       "    }\n",
       "\n",
       "    .dataframe tbody tr th {\n",
       "        vertical-align: top;\n",
       "    }\n",
       "\n",
       "    .dataframe thead th {\n",
       "        text-align: right;\n",
       "    }\n",
       "</style>\n",
       "<table border=\"1\" class=\"dataframe\">\n",
       "  <thead>\n",
       "    <tr style=\"text-align: right;\">\n",
       "      <th></th>\n",
       "      <th>ru</th>\n",
       "      <th>kk</th>\n",
       "    </tr>\n",
       "  </thead>\n",
       "  <tbody>\n",
       "    <tr>\n",
       "      <th>0</th>\n",
       "      <td>Не предусмотрено расторжение Договора в иной п...</td>\n",
       "      <td>ҚР Заңнамасында тікелей көзделген жағдайларды ...</td>\n",
       "    </tr>\n",
       "    <tr>\n",
       "      <th>1</th>\n",
       "      <td>Пряные и насыщенные ароматические ноты</td>\n",
       "      <td>Татымды және қанық хош иісті ноталар</td>\n",
       "    </tr>\n",
       "    <tr>\n",
       "      <th>2</th>\n",
       "      <td>Выберите понравившийся шрифт</td>\n",
       "      <td>Ұнатқан қаріпті таңдаңыз</td>\n",
       "    </tr>\n",
       "    <tr>\n",
       "      <th>3</th>\n",
       "      <td>Быстрая настройка доступна на Android, iOS и к...</td>\n",
       "      <td>Жылдам теңшеу Android, iOS және компьютерлерде...</td>\n",
       "    </tr>\n",
       "    <tr>\n",
       "      <th>4</th>\n",
       "      <td>6 минут работы или 14 затяжек2</td>\n",
       "      <td>6 минут жұмыс немесе 14 рет ішке тарту2</td>\n",
       "    </tr>\n",
       "    <tr>\n",
       "      <th>...</th>\n",
       "      <td>...</td>\n",
       "      <td>...</td>\n",
       "    </tr>\n",
       "    <tr>\n",
       "      <th>12399</th>\n",
       "      <td>Никогда не погружайте устройство IQOS ORIGINAL...</td>\n",
       "      <td>IQOS ORIGINALS DUO™ құрылғысын немесе оның акс...</td>\n",
       "    </tr>\n",
       "    <tr>\n",
       "      <th>12400</th>\n",
       "      <td>Цель подписания данного документа, которую пре...</td>\n",
       "      <td>Nestlé Nutrition бөлімшесі көздейтін осы құжат...</td>\n",
       "    </tr>\n",
       "    <tr>\n",
       "      <th>12401</th>\n",
       "      <td>Дистрибьюторы Nestlé должны ежегодно рассылать...</td>\n",
       "      <td>Nestlé дистрибьюторлары жыл сайын барлық тікел...</td>\n",
       "    </tr>\n",
       "    <tr>\n",
       "      <th>12402</th>\n",
       "      <td>Каждый элемент IQOS был тщательно продуман, чт...</td>\n",
       "      <td>IQOS-тың әрбір элементі қыздырылған темекіні п...</td>\n",
       "    </tr>\n",
       "    <tr>\n",
       "      <th>12403</th>\n",
       "      <td>• Вставьте щетку в камеру нагревания и очистит...</td>\n",
       "      <td>• Қылшақты қыздыру камерасына салыңыз және қыл...</td>\n",
       "    </tr>\n",
       "  </tbody>\n",
       "</table>\n",
       "<p>12404 rows × 2 columns</p>\n",
       "</div>"
      ],
      "text/plain": [
       "                                                      ru  \\\n",
       "0      Не предусмотрено расторжение Договора в иной п...   \n",
       "1                 Пряные и насыщенные ароматические ноты   \n",
       "2                           Выберите понравившийся шрифт   \n",
       "3      Быстрая настройка доступна на Android, iOS и к...   \n",
       "4                         6 минут работы или 14 затяжек2   \n",
       "...                                                  ...   \n",
       "12399  Никогда не погружайте устройство IQOS ORIGINAL...   \n",
       "12400  Цель подписания данного документа, которую пре...   \n",
       "12401  Дистрибьюторы Nestlé должны ежегодно рассылать...   \n",
       "12402  Каждый элемент IQOS был тщательно продуман, чт...   \n",
       "12403  • Вставьте щетку в камеру нагревания и очистит...   \n",
       "\n",
       "                                                      kk  \n",
       "0      ҚР Заңнамасында тікелей көзделген жағдайларды ...  \n",
       "1                   Татымды және қанық хош иісті ноталар  \n",
       "2                               Ұнатқан қаріпті таңдаңыз  \n",
       "3      Жылдам теңшеу Android, iOS және компьютерлерде...  \n",
       "4                6 минут жұмыс немесе 14 рет ішке тарту2  \n",
       "...                                                  ...  \n",
       "12399  IQOS ORIGINALS DUO™ құрылғысын немесе оның акс...  \n",
       "12400  Nestlé Nutrition бөлімшесі көздейтін осы құжат...  \n",
       "12401  Nestlé дистрибьюторлары жыл сайын барлық тікел...  \n",
       "12402  IQOS-тың әрбір элементі қыздырылған темекіні п...  \n",
       "12403  • Қылшақты қыздыру камерасына салыңыз және қыл...  \n",
       "\n",
       "[12404 rows x 2 columns]"
      ]
     },
     "execution_count": 6,
     "metadata": {},
     "output_type": "execute_result"
    }
   ],
   "source": [
    "df = pd.DataFrame.from_records(segments)\n",
    "df"
   ]
  },
  {
   "cell_type": "code",
   "execution_count": 7,
   "id": "6f683a5f-8769-43c6-8c65-02d02fe63988",
   "metadata": {},
   "outputs": [],
   "source": [
    "new_filename = splitext(filename)[0] + '.xlsx'"
   ]
  },
  {
   "cell_type": "code",
   "execution_count": 8,
   "id": "89d47b82-3d00-44b0-9e5b-9711c9acf191",
   "metadata": {},
   "outputs": [],
   "source": [
    "df.to_excel(new_filename, index=False)"
   ]
  }
 ],
 "metadata": {
  "kernelspec": {
   "display_name": "Python 3 (ipykernel)",
   "language": "python",
   "name": "python3"
  },
  "language_info": {
   "codemirror_mode": {
    "name": "ipython",
    "version": 3
   },
   "file_extension": ".py",
   "mimetype": "text/x-python",
   "name": "python",
   "nbconvert_exporter": "python",
   "pygments_lexer": "ipython3",
   "version": "3.11.5"
  }
 },
 "nbformat": 4,
 "nbformat_minor": 5
}
